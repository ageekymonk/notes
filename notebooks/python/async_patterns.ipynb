{
 "cells": [
  {
   "cell_type": "markdown",
   "metadata": {
    "ein.tags": [
     "worksheet-0"
    ],
    "slideshow": {
     "slide_type": "-"
    }
   },
   "source": [
    "## AsyncIO\n",
    "AsyncIO module is used for adding concurrency to your application using coroutines. Concurrency is achieved by several ways\n",
    "1. Multiprocessing\n",
    "    Multiprocessing implements concurrency using multiple processes.\n",
    "2. Multithreading\n",
    "    Multithreading implements concurrency using multiple threads. \n",
    "3. Coroutines\n",
    "    Implemnets concurrency using single process, single thread but with cooperative multitasking\n"
   ]
  },
  {
   "cell_type": "markdown",
   "metadata": {
    "ein.tags": [
     "worksheet-0"
    ],
    "slideshow": {
     "slide_type": "-"
    }
   },
   "source": [
    "## Concepts\n",
    "1. EventLoop\n",
    "    AsyncIO is centered around event loop. It is a first class object for handling I/O events, system events, application context changes\n",
    " "
   ]
  }
 ],
 "metadata": {
  "kernelspec": {
   "display_name": "Python 3",
   "name": "python3"
  },
  "language_info": {
   "codemirror_mode": {
    "name": "ipython",
    "version": 3
   },
   "file_extension": ".py",
   "mimetype": "text/x-python",
   "name": "python",
   "nbconvert_exporter": "python",
   "pygments_lexer": "ipython3",
   "version": "3.5.1"
  },
  "name": "async_patterns.ipynb"
 },
 "nbformat": 4,
 "nbformat_minor": 2
}
